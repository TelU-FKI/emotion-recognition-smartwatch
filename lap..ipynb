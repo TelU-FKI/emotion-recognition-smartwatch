{
 "cells": [
  {
   "cell_type": "code",
   "execution_count": null,
   "metadata": {},
   "outputs": [],
   "source": [
    "import pandas as pd\n",
    "import numpy as np\n",
    "import tensorflow as tf\n",
    "from tensorflow.keras.models import Sequential\n",
    "from tensorflow.keras.layers import Dense, SimpleRNN\n",
    "from tensorflow.keras.optimizers import Adam\n",
    "from sklearn.model_selection import train_test_split\n",
    "\n",
    "# Memuat data dari file CSV\n",
    "data_1 = pd.read_csv('/features/features_mo_ew2_accdata_21_10_139-1336.csv', header=None)\n",
    "data_2 = pd.read_csv('/features/features_mu_ew6_accdata_25_1_1912-1939.csv', header=None)\n",
    "data_3 = pd.read_csv('/features/features_mw_ew20_accdata_7_2_1713-1732.csv', header=None)\n",
    "\n",
    "# Menggabungkan semua data\n",
    "data = pd.concat([data_1, data_2, data_3], ignore_index=True)\n",
    "\n",
    "# Memisahkan fitur (x_data) dan label (y_data)\n",
    "x_data = data.iloc[:, :-1].values\n",
    "y_data = data.iloc[:, -1].values\n",
    "\n",
    "# Membagi data menjadi data pelatihan dan data pengujian\n",
    "x_train, x_test, y_train, y_test = train_test_split(x_data, y_data, test_size=0.2, random_state=42)\n",
    "\n",
    "# Mengubah bentuk data untuk RNN\n",
    "x_train = np.expand_dims(x_train, axis=2)\n",
    "x_test = np.expand_dims(x_test, axis=2)\n",
    "\n",
    "# Membuat model RNN\n",
    "model = Sequential()\n",
    "model.add(SimpleRNN(64, input_shape=(x_train.shape[1], 1), return_sequences=True))\n",
    "model.add(SimpleRNN(64))\n",
    "model.add(Dense(1, activation='sigmoid'))\n",
    "\n",
    "# Mengompilasi model\n",
    "model.compile(optimizer=Adam(), loss='binary_crossentropy', metrics=['accuracy'])\n",
    "\n",
    "# Melatih model\n",
    "history = model.fit(x_train, y_train, epochs=20, validation_split=0.2, batch_size=32)\n",
    "\n",
    "# Evaluasi model\n",
    "loss, accuracy = model.evaluate(x_test, y_test)\n",
    "print(f'Test Accuracy: {accuracy * 100:.2f}%')\n"
   ]
  }
 ],
 "metadata": {
  "language_info": {
   "name": "python"
  }
 },
 "nbformat": 4,
 "nbformat_minor": 2
}
